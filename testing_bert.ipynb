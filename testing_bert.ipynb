{
  "cells": [
    {
      "cell_type": "code",
      "source": [
        "from google.colab import drive\n",
        "drive.mount('/content/drive')"
      ],
      "metadata": {
        "id": "AsP4HABRhGQo",
        "outputId": "0a484232-3134-4a36-b533-1e9326440fe2",
        "colab": {
          "base_uri": "https://localhost:8080/"
        }
      },
      "execution_count": null,
      "outputs": [
        {
          "output_type": "stream",
          "name": "stdout",
          "text": [
            "Mounted at /content/drive\n"
          ]
        }
      ]
    },
    {
      "cell_type": "code",
      "source": [
        "!pip install emoji"
      ],
      "metadata": {
        "colab": {
          "base_uri": "https://localhost:8080/"
        },
        "id": "HMSfZ_Km0cFe",
        "outputId": "763ce959-5cd7-45dc-fe42-a362403fb7a4"
      },
      "execution_count": null,
      "outputs": [
        {
          "output_type": "stream",
          "name": "stdout",
          "text": [
            "Collecting emoji\n",
            "  Downloading emoji-2.12.1-py3-none-any.whl (431 kB)\n",
            "\u001b[2K     \u001b[90m━━━━━━━━━━━━━━━━━━━━━━━━━━━━━━━━━━━━━━━━\u001b[0m \u001b[32m431.4/431.4 kB\u001b[0m \u001b[31m5.1 MB/s\u001b[0m eta \u001b[36m0:00:00\u001b[0m\n",
            "\u001b[?25hRequirement already satisfied: typing-extensions>=4.7.0 in /usr/local/lib/python3.10/dist-packages (from emoji) (4.12.2)\n",
            "Installing collected packages: emoji\n",
            "Successfully installed emoji-2.12.1\n"
          ]
        }
      ]
    },
    {
      "cell_type": "code",
      "execution_count": null,
      "metadata": {
        "id": "zwFnJsE6vjf8"
      },
      "outputs": [],
      "source": [
        "import torch\n",
        "import pickle\n",
        "from transformers import AutoModelForSequenceClassification, AutoTokenizer\n",
        "\n",
        "# Define the path to the saved model in Google Drive\n",
        "model_path = '/content/drive/MyDrive/certificates/saved_model.pkl'\n",
        "\n",
        "# Load the saved model info from the .pkl file\n",
        "with open(model_path, 'rb') as f:\n",
        "    model_info = pickle.load(f)\n",
        "\n",
        "# Initialize the model with the saved configuration\n",
        "model = AutoModelForSequenceClassification.from_config(model_info['config'])\n",
        "model.load_state_dict(model_info['state_dict'])\n",
        "\n",
        "# Define the tokenizer\n",
        "tokenizer = AutoTokenizer.from_pretrained(\"bert-base-uncased\")\n",
        "\n",
        "# Move the model to the GPU if available\n",
        "device = \"cuda\" if torch.cuda.is_available() else \"cpu\"\n",
        "model.to(device)\n",
        "\n",
        "# Define the prediction function\n",
        "def predict_emotions_with_emojis(text):\n",
        "    sentences = text.split('.')\n",
        "    results = []\n",
        "    for sentence in sentences:\n",
        "        if sentence.strip():  # Ignore empty sentences\n",
        "            inputs = tokenizer(sentence, return_tensors=\"pt\", truncation=True, padding=True, max_length=512).to(device)\n",
        "            with torch.no_grad():\n",
        "                outputs = model(**inputs)\n",
        "                logits = outputs.logits\n",
        "                predicted_class_id = logits.argmax().item()\n",
        "                predicted_emotion = model.config.id2label[predicted_class_id]\n",
        "                emoji_map = {\n",
        "                    'sad': ':disappointed:',\n",
        "                    'happy': ':smiley:',\n",
        "                    'love': ':heart:',\n",
        "                    'angry': ':angry:',\n",
        "                    'fear': ':fearful:',\n",
        "                    'surprise': ':open_mouth:'\n",
        "                }\n",
        "                emoji_icon = emoji_map.get(predicted_emotion, '')\n",
        "                results.append((sentence.strip(), emoji.emojize(emoji_icon,language='alias')))\n",
        "    return results\n"
      ]
    },
    {
      "cell_type": "code",
      "source": [
        "text = \"Once upon a time i went to a palace, there it was very dark and gloomy it made me nervous then i walked few steps. Then i wnet through the steps i hear the strange surrounds around me. so i went through the another floor then i reached the top fourth floor. There i able to smell the very pleasant fragrance. Then i closed my eyes i imagined a important matter in my heart to become true. suddenly i got angered myself .Then i begin to medidate then for me there is a huge shock i opened my eyes my imagination came true. In the floor i saw full of rose petals and there is a grand decoration of a hall with moonlight. In the far distance, i saw 2 were standing in a different shapes. Then i went near i was my dream and i felt epiphany. It was my love radhekrishna\"\n",
        "\n",
        "# Predict emotions with emojis\n",
        "predicted_emotions_with_emojis = predict_emotions_with_emojis(text)\n",
        "\n",
        "# Display the predictions with emojis\n",
        "for sentence, emoji_icon in predicted_emotions_with_emojis:\n",
        "    print(f\"{sentence}: {emoji_icon}\")"
      ],
      "metadata": {
        "id": "lN_dyTiMiexe",
        "outputId": "32893394-089d-4f44-ef1a-e9d72b2a0a3e",
        "colab": {
          "base_uri": "https://localhost:8080/"
        }
      },
      "execution_count": null,
      "outputs": [
        {
          "output_type": "stream",
          "name": "stdout",
          "text": [
            "Once upon a time i went to a palace, there it was very dark and gloomy it made me nervous then i walked few steps: 😨\n",
            "Then i wnet through the steps i hear the strange surrounds around me: 😨\n",
            "so i went through the another floor then i reached the top fourth floor: 😨\n",
            "There i able to smell the very pleasant fragrance: 😃\n",
            "Then i closed my eyes i imagined a important matter in my heart to become true: 😃\n",
            "suddenly i got angered myself: 😠\n",
            "Then i begin to medidate then for me there is a huge shock i opened my eyes my imagination came true: 😮\n",
            "In the floor i saw full of rose petals and there is a grand decoration of a hall with moonlight: 😃\n",
            "In the far distance, i saw 2 were standing in a different shapes: 😨\n",
            "Then i went near i was my dream and i felt epiphany: 😨\n",
            "It was my love radhekrishna: ❤️\n"
          ]
        }
      ]
    },
    {
      "cell_type": "code",
      "source": [
        "!pip install emoji"
      ],
      "metadata": {
        "id": "p9AWYGblpx2G",
        "outputId": "1eb4a7cd-7d0c-446d-d0df-fb2689d1e994",
        "colab": {
          "base_uri": "https://localhost:8080/"
        }
      },
      "execution_count": null,
      "outputs": [
        {
          "output_type": "stream",
          "name": "stdout",
          "text": [
            "Collecting emoji\n",
            "  Downloading emoji-2.12.1-py3-none-any.whl (431 kB)\n",
            "\u001b[?25l     \u001b[90m━━━━━━━━━━━━━━━━━━━━━━━━━━━━━━━━━━━━━━━━\u001b[0m \u001b[32m0.0/431.4 kB\u001b[0m \u001b[31m?\u001b[0m eta \u001b[36m-:--:--\u001b[0m\r\u001b[2K     \u001b[91m━━━━━━━━━━━━━━━━━━━━━━━━━━━━━\u001b[0m\u001b[90m╺\u001b[0m\u001b[90m━━━━━━━━━━\u001b[0m \u001b[32m317.4/431.4 kB\u001b[0m \u001b[31m9.5 MB/s\u001b[0m eta \u001b[36m0:00:01\u001b[0m\r\u001b[2K     \u001b[90m━━━━━━━━━━━━━━━━━━━━━━━━━━━━━━━━━━━━━━━━\u001b[0m \u001b[32m431.4/431.4 kB\u001b[0m \u001b[31m9.0 MB/s\u001b[0m eta \u001b[36m0:00:00\u001b[0m\n",
            "\u001b[?25hRequirement already satisfied: typing-extensions>=4.7.0 in /usr/local/lib/python3.10/dist-packages (from emoji) (4.12.2)\n",
            "Installing collected packages: emoji\n",
            "Successfully installed emoji-2.12.1\n"
          ]
        }
      ]
    },
    {
      "cell_type": "code",
      "source": [
        "import torch\n",
        "import pickle\n",
        "from transformers import AutoModelForSequenceClassification, AutoTokenizer\n",
        "import emoji\n",
        "\n",
        "# Define the path to the saved model in Google Drive\n",
        "model_path = '/content/drive/MyDrive/certificates/saved_model.pkl'\n",
        "\n",
        "# Load the saved model info from the .pkl file\n",
        "with open(model_path, 'rb') as f:\n",
        "    model_info = pickle.load(f)\n",
        "\n",
        "# Initialize the model with the saved configuration\n",
        "model = AutoModelForSequenceClassification.from_config(model_info['config'])\n",
        "model.load_state_dict(model_info['state_dict'])\n",
        "\n",
        "# Define the tokenizer\n",
        "tokenizer = AutoTokenizer.from_pretrained(\"bert-base-uncased\")\n",
        "\n",
        "# Move the model to the GPU if available\n",
        "device = \"cuda\" if torch.cuda.is_available() else \"cpu\"\n",
        "model.to(device)\n",
        "\n",
        "# Define the prediction function with emojis\n",
        "def predict_emotions_with_emojis(text):\n",
        "    sentences = text.split('.')\n",
        "    results = []\n",
        "    for sentence in sentences:\n",
        "        if sentence.strip():  # Ignore empty sentences\n",
        "            inputs = tokenizer(sentence, return_tensors=\"pt\", truncation=True, padding=True, max_length=512).to(device)\n",
        "            with torch.no_grad():\n",
        "                outputs = model(**inputs)\n",
        "                logits = outputs.logits\n",
        "                predicted_class_id = logits.argmax().item()\n",
        "                predicted_emotion = model.config.id2label[predicted_class_id]\n",
        "                emoji_map = {\n",
        "                    'sad': ':disappointed:',\n",
        "                    'happy': ':smile:',\n",
        "                    'love': ':heart:',\n",
        "                    'angry': ':angry:',\n",
        "                    'fear': ':fearful:',\n",
        "                    'surprise': ':open_mouth:'\n",
        "                }\n",
        "                emoji_icon = emoji_map.get(predicted_emotion, '')\n",
        "                results.append((sentence.strip(),predicted_emotion,emoji.emojize(emoji_icon,language='alias')))\n",
        "    return results\n",
        "\n",
        "# Example text for prediction\n",
        "\n"
      ],
      "metadata": {
        "id": "lYRv8TZmwNtn"
      },
      "execution_count": null,
      "outputs": []
    },
    {
      "cell_type": "code",
      "source": [
        "text = \"it was a very bright colurful day. there 2 friends are walking. They are shyam and krishna, both are very close together. They are walking into a deep forest they are finding a cottage to find their another friend. As a bolt-in-blue, they can't find cottage. so they went deep into a forest and plucked beautiful flowers around them. shyam and krishna both garlanded that flower.to thier shock when they turn back they found thier another found it was a huge shock to them. krishna gave garland to shyam but shyam feared giving it to another friend.But the another friend radha accepted, to shyam's surprise three of them traveled together. \"\n",
        "\n",
        "# Predict emotions with emojis\n",
        "predicted_emotions_with_emojis = predict_emotions_with_emojis(text)\n",
        "\n",
        "# Display the predictions with emojis\n",
        "for sentence,label, emoji_icon in predicted_emotions_with_emojis:\n",
        "    print(f\"{sentence}: {label} {emoji_icon}\")"
      ],
      "metadata": {
        "colab": {
          "base_uri": "https://localhost:8080/"
        },
        "id": "zXBAS4jV3WwA",
        "outputId": "54076211-bb53-4deb-d227-25ae8f34e5db"
      },
      "execution_count": null,
      "outputs": [
        {
          "output_type": "stream",
          "name": "stdout",
          "text": [
            "it was a very bright colurful day: happy 😄\n",
            "there 2 friends are walking: fear 😨\n",
            "They are shyam and krishna, both are very close together: love ❤️\n",
            "They are walking into a deep forest they are finding a cottage to find their another friend: fear 😨\n",
            "As a bolt-in-blue, they can't find cottage: angry 😠\n",
            "so they went deep into a forest and plucked beautiful flowers around them: love ❤️\n",
            "shyam and krishna both garlanded that flower: love ❤️\n",
            "to thier shock when they turn back they found thier another found it was a huge shock to them: surprise 😮\n",
            "krishna gave garland to shyam but shyam feared giving it to another friend: fear 😨\n",
            "But the another friend radha accepted, to shyam's surprise three of them traveled together: happy 😄\n"
          ]
        }
      ]
    },
    {
      "cell_type": "code",
      "source": [
        "import emoji\n",
        "\n",
        "# Define some emojis\n",
        "emojis = [\":surprised:\", \":heart:\", \":sunny:\", \":rocket:\", \":sushi:\"]\n",
        "\n",
        "# Print the emojis\n",
        "for emoji_icon in emojis:\n",
        "    print(emoji.emojize(emoji_icon,language='alias'))\n"
      ],
      "metadata": {
        "id": "PCu3Xc8KxJkl",
        "outputId": "9f8d5db6-db14-4f23-b907-e706e1717e99",
        "colab": {
          "base_uri": "https://localhost:8080/"
        }
      },
      "execution_count": null,
      "outputs": [
        {
          "output_type": "stream",
          "name": "stdout",
          "text": [
            ":surprised:\n",
            "❤️\n",
            "☀️\n",
            "🚀\n",
            "🍣\n"
          ]
        }
      ]
    },
    {
      "cell_type": "code",
      "source": [
        "from IPython.core.display import display, HTML\n",
        "emotion_colors = {\n",
        "    \"sad\": \"blue\",\n",
        "    \"happy\": \"green\",\n",
        "    \"love\": \"red\",\n",
        "    \"angry\": \"orange\",\n",
        "    \"fear\": \"purple\",\n",
        "    \"surprise\": \"yellow\"\n",
        "}\n",
        "\n",
        "# Define the prediction function with emojis and HTML formatting\n",
        "def predict_emotions_with_emojis_and_colors(text):\n",
        "    sentences = text.split('.')\n",
        "    results = []\n",
        "    for sentence in sentences:\n",
        "        if sentence.strip():  # Ignore empty sentences\n",
        "            inputs = tokenizer(sentence, return_tensors=\"pt\", truncation=True, padding=True, max_length=512).to(device)\n",
        "            with torch.no_grad():\n",
        "                outputs = model(**inputs)\n",
        "                logits = outputs.logits\n",
        "                predicted_class_id = logits.argmax().item()\n",
        "                predicted_emotion = model.config.id2label[predicted_class_id]\n",
        "                emoji_icon = emoji.emojize(f\":{predicted_emotion}:\",language='alias')\n",
        "                color = emotion_colors.get(predicted_emotion, \"black\")\n",
        "                highlighted_sentence = f'<span style=\"color:{color};\">{sentence.strip()} ({predicted_emotion} {emoji_icon})</span>'\n",
        "                results.append(highlighted_sentence)\n",
        "    return \" \".join(results)\n",
        "\n",
        "# Example text for prediction\n",
        "text = (\"It was a very bright colorful day. There 2 friends are walking. \"\n",
        "        \"They are shyam and krishna, both are very close together. \"\n",
        "        \"They are walking into a deep forest they are finding a cottage to find their another friend. \"\n",
        "        \"As a bolt-in-blue, they can't find the cottage. \"\n",
        "        \"So they went deep into a forest and plucked beautiful flowers around them. \"\n",
        "        \"Shyam and krishna both garlanded that flower. \"\n",
        "        \"To their shock when they turn back they found their another friend it was a huge shock to them. \"\n",
        "        \"Krishna gave garland to shyam but shyam feared giving it to another friend. \"\n",
        "        \"But the another friend radha accepted, to shyam's surprise three of them traveled together.\")\n",
        "\n",
        "# Predict emotions with emojis and colors\n",
        "highlighted_text = predict_emotions_with_emojis_and_colors(text)\n",
        "\n",
        "# Display the highlighted text\n",
        "display(HTML(highlighted_text))"
      ],
      "metadata": {
        "colab": {
          "base_uri": "https://localhost:8080/",
          "height": 104
        },
        "id": "_AYHkS396h2F",
        "outputId": "a3d5a34e-0152-4ea9-9045-0ff3a7190668"
      },
      "execution_count": null,
      "outputs": [
        {
          "output_type": "display_data",
          "data": {
            "text/plain": [
              "<IPython.core.display.HTML object>"
            ],
            "text/html": [
              "<span style=\"color:green;\">It was a very bright colorful day (happy :happy:)</span> <span style=\"color:green;\">There 2 friends are walking (happy :happy:)</span> <span style=\"color:red;\">They are shyam and krishna, both are very close together (love :love:)</span> <span style=\"color:purple;\">They are walking into a deep forest they are finding a cottage to find their another friend (fear :fear:)</span> <span style=\"color:orange;\">As a bolt-in-blue, they can't find the cottage (angry 😠)</span> <span style=\"color:red;\">So they went deep into a forest and plucked beautiful flowers around them (love :love:)</span> <span style=\"color:red;\">Shyam and krishna both garlanded that flower (love :love:)</span> <span style=\"color:yellow;\">To their shock when they turn back they found their another friend it was a huge shock to them (surprise :surprise:)</span> <span style=\"color:purple;\">Krishna gave garland to shyam but shyam feared giving it to another friend (fear :fear:)</span> <span style=\"color:green;\">But the another friend radha accepted, to shyam's surprise three of them traveled together (happy :happy:)</span>"
            ]
          },
          "metadata": {}
        }
      ]
    },
    {
      "cell_type": "code",
      "source": [
        "from IPython.core.display import display, HTML\n",
        "\n",
        "# Define colors for each emotion\n",
        "emotion_colors = {\n",
        "    \"happy\": \"yellow\",\n",
        "    \"sad\": \"blue\",\n",
        "    \"love\": \"red\",\n",
        "    \"angry\": \"orange\",\n",
        "    \"fear\": \"purple\",\n",
        "    \"surprise\": \"cyan\"\n",
        "}\n",
        "\n",
        "# Define the emoji mapping\n",
        "emoji_map = {\n",
        "    'sad': ':disappointed:',\n",
        "    'happy': ':smile:',\n",
        "    'love': ':heart:',\n",
        "    'angry': ':angry:',\n",
        "    'fear': ':fearful:',\n",
        "    'surprise': ':open_mouth:'\n",
        "}\n",
        "\n",
        "# Define the prediction function with emojis and color highlighting\n",
        "def predict_emotions_with_emojis_and_highlight(text):\n",
        "    sentences = text.split('.')\n",
        "    highlighted_text = \"\"\n",
        "    for sentence in sentences:\n",
        "        if sentence.strip():  # Ignore empty sentences\n",
        "            inputs = tokenizer(sentence, return_tensors=\"pt\", truncation=True, padding=True, max_length=512).to(device)\n",
        "            with torch.no_grad():\n",
        "                outputs = model(**inputs)\n",
        "                logits = outputs.logits\n",
        "                predicted_class_id = logits.argmax().item()\n",
        "                predicted_emotion = model.config.id2label[predicted_class_id]\n",
        "                color = emotion_colors[predicted_emotion]\n",
        "                emoji_icon = emoji.emojize(emoji_map[predicted_emotion], language='alias')\n",
        "                highlighted_text += f'<span style=\"background-color: {color}\">{sentence.strip()}</span> <span style=\"background-color: black\">{emoji_icon}</span>. '\n",
        "    return highlighted_text\n",
        "\n",
        "# Example text for prediction\n",
        "text = \"Once upon a time i went to a palace, there it was very dark and gloomy it made me nervous then i walked few steps. Then i wnet through the steps i hear the strange surrounds around me. so i went through the another floor then i reached the top fourth floor. There i able to smell the very pleasant fragrance. Then i closed my eyes i imagined a important matter in my heart to become true. suddenly i got angered myself .Then i begin to medidate then for me there is a huge shock i opened my eyes my imagination came true. In the floor i saw full of rose petals and there is a grand decoration of a hall with moonlight. In the far distance, i saw 2 were standing in a different shapes. Then i went near i was my dream and i felt epiphany. It was my love radhekrishna\"\n",
        "\n",
        "# Predict emotions with emojis and highlight\n",
        "highlighted_text = predict_emotions_with_emojis_and_highlight(text)\n",
        "\n",
        "# Display the highlighted text with emojis\n",
        "display(HTML(highlighted_text))\n"
      ],
      "metadata": {
        "colab": {
          "base_uri": "https://localhost:8080/",
          "height": 104
        },
        "id": "s_PqUIfY7_Uj",
        "outputId": "49235f81-c86f-4d1d-e343-535b57ff9b85"
      },
      "execution_count": null,
      "outputs": [
        {
          "output_type": "display_data",
          "data": {
            "text/plain": [
              "<IPython.core.display.HTML object>"
            ],
            "text/html": [
              "<span style=\"background-color: purple\">Once upon a time i went to a palace, there it was very dark and gloomy it made me nervous then i walked few steps</span> <span style=\"background-color: black\">😨</span>. <span style=\"background-color: purple\">Then i wnet through the steps i hear the strange surrounds around me</span> <span style=\"background-color: black\">😨</span>. <span style=\"background-color: purple\">so i went through the another floor then i reached the top fourth floor</span> <span style=\"background-color: black\">😨</span>. <span style=\"background-color: yellow\">There i able to smell the very pleasant fragrance</span> <span style=\"background-color: black\">😄</span>. <span style=\"background-color: yellow\">Then i closed my eyes i imagined a important matter in my heart to become true</span> <span style=\"background-color: black\">😄</span>. <span style=\"background-color: orange\">suddenly i got angered myself</span> <span style=\"background-color: black\">😠</span>. <span style=\"background-color: yellow\">Then i begin to medidate then for me there is a huge shock i opened my eyes my imagination came true</span> <span style=\"background-color: black\">😄</span>. <span style=\"background-color: yellow\">In the floor i saw full of rose petals and there is a grand decoration of a hall with moonlight</span> <span style=\"background-color: black\">😄</span>. <span style=\"background-color: purple\">In the far distance, i saw 2 were standing in a different shapes</span> <span style=\"background-color: black\">😨</span>. <span style=\"background-color: red\">Then i went near i was my dream and i felt epiphany</span> <span style=\"background-color: black\">❤️</span>. <span style=\"background-color: red\">It was my love radhekrishna</span> <span style=\"background-color: black\">❤️</span>. "
            ]
          },
          "metadata": {}
        }
      ]
    },
    {
      "cell_type": "code",
      "source": [
        "from IPython.core.display import display, HTML\n",
        "import emoji\n",
        "\n",
        "# Define colors for each emotion\n",
        "emotion_colors = {\n",
        "    \"happy\": \"yellow\",\n",
        "    \"sad\": \"blue\",\n",
        "    \"love\": \"red\",\n",
        "    \"angry\": \"orange\",\n",
        "    \"fear\": \"purple\",\n",
        "    \"surprise\": \"green\"\n",
        "}\n",
        "\n",
        "# Define the emoji mapping\n",
        "emoji_map = {\n",
        "    'sad': ':disappointed:',\n",
        "    'happy': ':smile:',\n",
        "    'love': ':heart:',\n",
        "    'angry': ':angry:',\n",
        "    'fear': ':fearful:',\n",
        "    'surprise': ':open_mouth:'\n",
        "}\n",
        "\n",
        "# Define the prediction function with emojis and multiple emotions handling\n",
        "def predict_emotions_with_emojis_and_justification(text):\n",
        "    sentences = text.split('.')\n",
        "    results = []\n",
        "    for sentence in sentences:\n",
        "        if sentence.strip():  # Ignore empty sentences\n",
        "            inputs = tokenizer(sentence, return_tensors=\"pt\", truncation=True, padding=True, max_length=512).to(device)\n",
        "            with torch.no_grad():\n",
        "                outputs = model(**inputs)\n",
        "                logits = outputs.logits.squeeze()\n",
        "                sorted_logits, sorted_indices = torch.sort(logits, descending=True)\n",
        "                primary_emotion_id = sorted_indices[0].item()\n",
        "                secondary_emotion_id = sorted_indices[1].item()\n",
        "                primary_emotion = model.config.id2label[primary_emotion_id]\n",
        "                secondary_emotion = model.config.id2label[secondary_emotion_id]\n",
        "\n",
        "                emoji_icon = emoji.emojize(emoji_map.get(primary_emotion, ''), language='alias')\n",
        "                justification = \"\"\n",
        "                if sorted_logits[1] > 0.7 * sorted_logits[0]:  # If the secondary emotion is strong\n",
        "                    justification = f\" (Note: Also significant {secondary_emotion})\"\n",
        "\n",
        "                results.append((sentence.strip(), primary_emotion, emoji_icon, justification))\n",
        "    return results\n",
        "\n",
        "text = \"it was a very bright colurful day. there 2 friends are walking. They are shyam and krishna, both are very close together. They are walking into a deep forest they are finding a cottage to find their another friend. As a bolt-in-blue, they can't find cottage. so they went deep into a forest and plucked beautiful flowers around them. shyam and krishna both garlanded that flower.to thier shock when they turn back they found thier another found it was a huge shock to them. krishna gave garland to shyam but shyam feared giving it to another friend.But the another friend radha accepted, to shyam's surprise three of them traveled together. \"\n",
        "\n",
        "\n",
        "# Predict emotions with emojis and justification\n",
        "predicted_emotions_with_emojis_and_justification = predict_emotions_with_emojis_and_justification(text)\n",
        "\n",
        "# Highlighted text with color coding and emoji\n",
        "highlighted_text = \"\"\n",
        "for sentence, emotion, emoji_icon, justification in predicted_emotions_with_emojis_and_justification:\n",
        "    color = emotion_colors[emotion]\n",
        "    highlighted_text += f'<span style=\"background-color: {color}\">{sentence.strip()}</span> <span style=\"background-color:black\">{emoji_icon}</span><span style=\"background-color:cyan\">{justification}</span>. '\n",
        "\n",
        "# Display the highlighted text\n",
        "display(HTML(highlighted_text))\n"
      ],
      "metadata": {
        "colab": {
          "base_uri": "https://localhost:8080/",
          "height": 104
        },
        "id": "ygs2dhx9BHwm",
        "outputId": "a1cfaa51-a90d-4991-9b16-ce40fda4f6cf"
      },
      "execution_count": null,
      "outputs": [
        {
          "output_type": "display_data",
          "data": {
            "text/plain": [
              "<IPython.core.display.HTML object>"
            ],
            "text/html": [
              "<span style=\"background-color: yellow\">it was a very bright colurful day</span> <span style=\"background-color:black\">😄</span><span style=\"background-color:cyan\"></span>. <span style=\"background-color: yellow\">there 2 friends are walking</span> <span style=\"background-color:black\">😄</span><span style=\"background-color:cyan\"> (Note: Also significant fear)</span>. <span style=\"background-color: red\">They are shyam and krishna, both are very close together</span> <span style=\"background-color:black\">❤️</span><span style=\"background-color:cyan\"> (Note: Also significant happy)</span>. <span style=\"background-color: purple\">They are walking into a deep forest they are finding a cottage to find their another friend</span> <span style=\"background-color:black\">😨</span><span style=\"background-color:cyan\"></span>. <span style=\"background-color: orange\">As a bolt-in-blue, they can't find cottage</span> <span style=\"background-color:black\">😠</span><span style=\"background-color:cyan\"></span>. <span style=\"background-color: red\">so they went deep into a forest and plucked beautiful flowers around them</span> <span style=\"background-color:black\">❤️</span><span style=\"background-color:cyan\"></span>. <span style=\"background-color: red\">shyam and krishna both garlanded that flower</span> <span style=\"background-color:black\">❤️</span><span style=\"background-color:cyan\"></span>. <span style=\"background-color: green\">to thier shock when they turn back they found thier another found it was a huge shock to them</span> <span style=\"background-color:black\">😮</span><span style=\"background-color:cyan\"></span>. <span style=\"background-color: purple\">krishna gave garland to shyam but shyam feared giving it to another friend</span> <span style=\"background-color:black\">😨</span><span style=\"background-color:cyan\"></span>. <span style=\"background-color: yellow\">But the another friend radha accepted, to shyam's surprise three of them traveled together</span> <span style=\"background-color:black\">😄</span><span style=\"background-color:cyan\"></span>. "
            ]
          },
          "metadata": {}
        }
      ]
    },
    {
      "cell_type": "code",
      "source": [
        "!pip install docx"
      ],
      "metadata": {
        "colab": {
          "base_uri": "https://localhost:8080/"
        },
        "id": "croW-RmYWAT8",
        "outputId": "c2d96ef6-ab81-4989-9cea-c4ce22b3e7a7"
      },
      "execution_count": null,
      "outputs": [
        {
          "output_type": "stream",
          "name": "stdout",
          "text": [
            "Collecting docx\n",
            "  Downloading docx-0.2.4.tar.gz (54 kB)\n",
            "\u001b[2K     \u001b[90m━━━━━━━━━━━━━━━━━━━━━━━━━━━━━━━━━━━━━━━━\u001b[0m \u001b[32m54.9/54.9 kB\u001b[0m \u001b[31m1.4 MB/s\u001b[0m eta \u001b[36m0:00:00\u001b[0m\n",
            "\u001b[?25h  Preparing metadata (setup.py) ... \u001b[?25l\u001b[?25hdone\n",
            "Requirement already satisfied: lxml in /usr/local/lib/python3.10/dist-packages (from docx) (4.9.4)\n",
            "Requirement already satisfied: Pillow>=2.0 in /usr/local/lib/python3.10/dist-packages (from docx) (9.4.0)\n",
            "Building wheels for collected packages: docx\n",
            "  Building wheel for docx (setup.py) ... \u001b[?25l\u001b[?25hdone\n",
            "  Created wheel for docx: filename=docx-0.2.4-py3-none-any.whl size=53895 sha256=364b9fb48f12fcd265ce8f1c4a6dd17199a7ab6915eb28c4df50dec1e3a66bb6\n",
            "  Stored in directory: /root/.cache/pip/wheels/81/f5/1d/e09ba2c1907a43a4146d1189ae4733ca1a3bfe27ee39507767\n",
            "Successfully built docx\n",
            "Installing collected packages: docx\n",
            "Successfully installed docx-0.2.4\n"
          ]
        }
      ]
    },
    {
      "cell_type": "code",
      "source": [
        "!pip install python-docx\n"
      ],
      "metadata": {
        "colab": {
          "base_uri": "https://localhost:8080/"
        },
        "id": "lW1kXBp8WNfi",
        "outputId": "ab308067-5991-49d8-88ec-c8dff4ef30cc"
      },
      "execution_count": null,
      "outputs": [
        {
          "output_type": "stream",
          "name": "stdout",
          "text": [
            "Collecting python-docx\n",
            "  Downloading python_docx-1.1.2-py3-none-any.whl (244 kB)\n",
            "\u001b[?25l     \u001b[90m━━━━━━━━━━━━━━━━━━━━━━━━━━━━━━━━━━━━━━━━\u001b[0m \u001b[32m0.0/244.3 kB\u001b[0m \u001b[31m?\u001b[0m eta \u001b[36m-:--:--\u001b[0m\r\u001b[2K     \u001b[91m━━━━━━━━━━━━━━━━━━━━━━━━━━━━━━━━━━━━━━\u001b[0m\u001b[91m╸\u001b[0m\u001b[90m━\u001b[0m \u001b[32m235.5/244.3 kB\u001b[0m \u001b[31m7.1 MB/s\u001b[0m eta \u001b[36m0:00:01\u001b[0m\r\u001b[2K     \u001b[90m━━━━━━━━━━━━━━━━━━━━━━━━━━━━━━━━━━━━━━━━\u001b[0m \u001b[32m244.3/244.3 kB\u001b[0m \u001b[31m5.7 MB/s\u001b[0m eta \u001b[36m0:00:00\u001b[0m\n",
            "\u001b[?25hRequirement already satisfied: lxml>=3.1.0 in /usr/local/lib/python3.10/dist-packages (from python-docx) (4.9.4)\n",
            "Requirement already satisfied: typing-extensions>=4.9.0 in /usr/local/lib/python3.10/dist-packages (from python-docx) (4.12.2)\n",
            "Installing collected packages: python-docx\n",
            "Successfully installed python-docx-1.1.2\n"
          ]
        }
      ]
    },
    {
      "cell_type": "code",
      "source": [
        "import torch\n",
        "import pickle\n",
        "from transformers import AutoModelForSequenceClassification, AutoTokenizer\n",
        "import emoji\n",
        "from docx import Document\n",
        "from docx.shared import RGBColor\n",
        "\n",
        "# Define the path to the saved model in Google Drive\n",
        "model_path = '/content/drive/MyDrive/certificates/saved_model.pkl'\n",
        "\n",
        "# Load the saved model info from the .pkl file\n",
        "with open(model_path, 'rb') as f:\n",
        "    model_info = pickle.load(f)\n",
        "\n",
        "# Initialize the model with the saved configuration\n",
        "model = AutoModelForSequenceClassification.from_config(model_info['config'])\n",
        "model.load_state_dict(model_info['state_dict'])\n",
        "\n",
        "# Define the tokenizer\n",
        "tokenizer = AutoTokenizer.from_pretrained(\"bert-base-uncased\")\n",
        "\n",
        "# Move the model to the GPU if available\n",
        "device = \"cuda\" if torch.cuda.is_available() else \"cpu\"\n",
        "model.to(device)\n",
        "\n",
        "# Define the prediction function with emojis\n",
        "def predict_emotions_with_emojis(text):\n",
        "    sentences = text.split('.')\n",
        "    results = []\n",
        "    for sentence in sentences:\n",
        "        if sentence.strip():  # Ignore empty sentences\n",
        "            inputs = tokenizer(sentence, return_tensors=\"pt\", truncation=True, padding=True, max_length=512).to(device)\n",
        "            with torch.no_grad():\n",
        "                outputs = model(**inputs)\n",
        "                logits = outputs.logits\n",
        "                predicted_class_id = logits.argmax().item()\n",
        "                predicted_emotion = model.config.id2label[predicted_class_id]\n",
        "\n",
        "                # Map emotions to emojis\n",
        "                emoji_map = {\n",
        "                    'sad': ':disappointed:',\n",
        "                    'happy': ':smile:',\n",
        "                    'love': ':heart:',\n",
        "                    'angry': ':angry:',\n",
        "                    'fear': ':fearful:',\n",
        "                    'surprise': ':open_mouth:'\n",
        "                }\n",
        "\n",
        "                # Get emoji icon for predicted emotion\n",
        "                emoji_icon = emoji_map.get(predicted_emotion, '')\n",
        "\n",
        "                # Append sentence, predicted emotion, and emoji to results\n",
        "                results.append((sentence.strip(), predicted_emotion, emoji.emojize(emoji_icon, language='alias')))\n",
        "\n",
        "    return results\n",
        "\n",
        "# Function to write results to a document\n",
        "def write_document(results, output_path):\n",
        "    doc = Document()\n",
        "    for sentence, emotion, emoji_icon in results:\n",
        "        p = doc.add_paragraph()\n",
        "        run = p.add_run(f\"{sentence} {emoji_icon}\")\n",
        "\n",
        "        # Set font color based on emotion\n",
        "        if emotion in color_map:\n",
        "            run.font.color.rgb = color_map[emotion]\n",
        "\n",
        "    doc.save(output_path)\n",
        "\n",
        "# Define the emotion color map\n",
        "color_map = {\n",
        "    'sad': RGBColor(0, 0, 255),      # Blue\n",
        "    'happy': RGBColor(0, 255, 0),    # Green\n",
        "    'love': RGBColor(255, 0, 255),   # Magenta\n",
        "    'angry': RGBColor(255, 0, 0),    # Red\n",
        "    'fear': RGBColor(255, 255, 0),   # Yellow\n",
        "    'surprise': RGBColor(0, 255, 255) # Cyan\n",
        "}\n",
        "\n",
        "def read_document(filepath):\n",
        "    doc = Document(filepath)\n",
        "    full_text = []\n",
        "    for paragraph in doc.paragraphs:\n",
        "        full_text.append(paragraph.text)\n",
        "    return '\\n'.join(full_text)\n",
        "\n",
        "# Load the input document\n",
        "input_path = '/content/sample_continuous_story.docx'  # Replace with your document path\n",
        "output_path =  '/content/output_document.docx'  # Replace with your desired output path\n",
        "text = read_document(input_path)\n",
        "\n",
        "\n",
        "# Get predictions\n",
        "results = predict_emotions_with_emojis(text)\n",
        "\n",
        "# Write results to the output document\n",
        "write_document(results, output_path)\n",
        "\n",
        "print(f\"Results have been written to {output_path}\")\n"
      ],
      "metadata": {
        "colab": {
          "base_uri": "https://localhost:8080/"
        },
        "id": "B2e9ChLBm2sz",
        "outputId": "820909a5-40d6-45f9-9d98-e8f5b219d95c"
      },
      "execution_count": null,
      "outputs": [
        {
          "output_type": "stream",
          "name": "stdout",
          "text": [
            "Results have been written to /content/output_document.docx\n"
          ]
        }
      ]
    }
  ],
  "metadata": {
    "colab": {
      "provenance": [],
      "gpuType": "T4"
    },
    "kernelspec": {
      "display_name": "Python 3",
      "name": "python3"
    },
    "accelerator": "GPU"
  },
  "nbformat": 4,
  "nbformat_minor": 0
}